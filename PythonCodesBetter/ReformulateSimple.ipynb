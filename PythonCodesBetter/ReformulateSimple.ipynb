{
 "cells": [
  {
   "cell_type": "code",
   "execution_count": 69,
   "metadata": {},
   "outputs": [],
   "source": [
    "import os\n",
    "import io"
   ]
  },
  {
   "cell_type": "code",
   "execution_count": 70,
   "metadata": {},
   "outputs": [],
   "source": [
    "bug_report_path=\"C:/MyWorks/MyLAB/RAISELab/Mukta/PhD_Thesis_Chapter4/ExampleProjectData/ProjectBugReports/3/3428\""
   ]
  },
  {
   "cell_type": "markdown",
   "metadata": {},
   "source": [
    "# Bug Report Text"
   ]
  },
  {
   "cell_type": "code",
   "execution_count": 71,
   "metadata": {},
   "outputs": [],
   "source": [
    "bug_report_id=3428\n",
    "type_description=\"PE\"\n",
    "bug_title_path=bug_report_path+\"/title.txt\"\n",
    "bug_description_path=bug_report_path+\"/description.txt\""
   ]
  },
  {
   "cell_type": "markdown",
   "metadata": {},
   "source": [
    "# Image Content"
   ]
  },
  {
   "cell_type": "code",
   "execution_count": 53,
   "metadata": {},
   "outputs": [],
   "source": [
    "bug_image_description_path=bug_report_path+\"/34281ImageDescription.txt\"\n",
    "bug_image_content_path=bug_report_path+\"/34281ImageContent.txt\""
   ]
  },
  {
   "cell_type": "code",
   "execution_count": 54,
   "metadata": {},
   "outputs": [],
   "source": [
    "def get_file_content(file_url):\n",
    "    with open(file_url) as f:\n",
    "        return f.readlines()"
   ]
  },
  {
   "cell_type": "code",
   "execution_count": 55,
   "metadata": {},
   "outputs": [],
   "source": [
    "bug_title=get_file_content(bug_title_path)\n",
    "bug_description=get_file_content(bug_description_path)\n",
    "bug_image_description=get_file_content(bug_image_description_path)\n",
    "bug_image_content=get_file_content(bug_image_content_path)"
   ]
  },
  {
   "cell_type": "code",
   "execution_count": 56,
   "metadata": {},
   "outputs": [],
   "source": [
    "def merge_text_lines(lines):\n",
    "    return ' '.join(lines) "
   ]
  },
  {
   "cell_type": "code",
   "execution_count": 64,
   "metadata": {},
   "outputs": [],
   "source": [
    "whole_bug_report=merge_text_lines(bug_description)\n",
    "temp_title_text=merge_text_lines(bug_title)\n",
    "raw_text= temp_title_text+\" \"+whole_bug_report"
   ]
  },
  {
   "cell_type": "code",
   "execution_count": 67,
   "metadata": {},
   "outputs": [],
   "source": [
    "from ContentManager.ContentProcessor import process_PE"
   ]
  },
  {
   "cell_type": "code",
   "execution_count": 68,
   "metadata": {},
   "outputs": [
    {
     "name": "stdout",
     "output_type": "stream",
     "text": [
      "Process Programming Element\n",
      "I am from ProgrammingElementManager.py\n",
      "['userfriendlyexception', 'user', 'friendly', 'exception', 'actionresult', 'action', 'result', 'onpostasync', 'post', 'async', 'signinmanager', 'sign', 'manager', 'passwordsigninasync', 'password', 'sign', 'async', 'usernameoremailaddress', 'user', 'email', 'address', 'rememberme', 'remember', 'islockedout', 'locked', 'alerts', 'warning', 'userlockedoutmessage', 'user', 'locked', 'message', 'alerts', 'danger', 'invalidusernameorpassword', 'invalid', 'user', 'password', 'returnurl', 'return', 'url', 'alertmanager', 'alert', 'manager', 'alertmanager', 'alert', 'manager', 'alertlist', 'alert', 'list']\n",
      "I am from sorPageRankScore function\n",
      "['user', 'password', 'manager', 'async', 'alerts', 'locked', 'sign', 'alertlist', 'alert', 'actionresult', 'action', 'result', 'friendly', 'onpostasync', 'exception', 'post', 'rememberme', 'remember', 'alertmanager', 'address']\n"
     ]
    }
   ],
   "source": [
    "pe_output = process_PE(raw_text)"
   ]
  },
  {
   "cell_type": "code",
   "execution_count": 59,
   "metadata": {},
   "outputs": [
    {
     "data": {
      "text/plain": [
       "['user',\n",
       " 'password',\n",
       " 'manager',\n",
       " 'async',\n",
       " 'alerts',\n",
       " 'locked',\n",
       " 'sign',\n",
       " 'alertlist',\n",
       " 'alert',\n",
       " 'actionresult',\n",
       " 'action',\n",
       " 'result',\n",
       " 'friendly',\n",
       " 'onpostasync',\n",
       " 'exception',\n",
       " 'post',\n",
       " 'rememberme',\n",
       " 'remember',\n",
       " 'alertmanager',\n",
       " 'address']"
      ]
     },
     "execution_count": 59,
     "metadata": {},
     "output_type": "execute_result"
    }
   ],
   "source": [
    "pe_output"
   ]
  },
  {
   "cell_type": "code",
   "execution_count": 34,
   "metadata": {},
   "outputs": [],
   "source": []
  },
  {
   "cell_type": "code",
   "execution_count": null,
   "metadata": {},
   "outputs": [],
   "source": []
  },
  {
   "cell_type": "code",
   "execution_count": 60,
   "metadata": {},
   "outputs": [
    {
     "data": {
      "text/plain": [
       "['Create an Alert system to show alerts on UI for MVC applications\\n']"
      ]
     },
     "execution_count": 60,
     "metadata": {},
     "output_type": "execute_result"
    }
   ],
   "source": [
    "bug_title"
   ]
  },
  {
   "cell_type": "code",
   "execution_count": 61,
   "metadata": {},
   "outputs": [],
   "source": [
    "from ReformulateManager.ReformulateManager import reformulateBasedOnType\n",
    "from ContentManager.ProgrammingElementManager import PE_Processor"
   ]
  },
  {
   "cell_type": "code",
   "execution_count": null,
   "metadata": {},
   "outputs": [],
   "source": []
  }
 ],
 "metadata": {
  "kernelspec": {
   "display_name": "base",
   "language": "python",
   "name": "python3"
  },
  "language_info": {
   "codemirror_mode": {
    "name": "ipython",
    "version": 3
   },
   "file_extension": ".py",
   "mimetype": "text/x-python",
   "name": "python",
   "nbconvert_exporter": "python",
   "pygments_lexer": "ipython3",
   "version": "3.12.4"
  }
 },
 "nbformat": 4,
 "nbformat_minor": 2
}
